{
  "nbformat": 4,
  "nbformat_minor": 0,
  "metadata": {
    "colab": {
      "name": "Topic 3.ipynb",
      "provenance": []
    },
    "kernelspec": {
      "name": "python3",
      "display_name": "Python 3"
    },
    "language_info": {
      "name": "python"
    }
  },
  "cells": [
    {
      "cell_type": "code",
      "source": [
        "name=\"Wandy\""
      ],
      "metadata": {
        "id": "bTgNlH_pnEaH"
      },
      "execution_count": null,
      "outputs": []
    },
    {
      "cell_type": "code",
      "source": [
        "# Space will result in error\n",
        "\n",
        "first name=\"wandy\""
      ],
      "metadata": {
        "colab": {
          "base_uri": "https://localhost:8080/",
          "height": 130
        },
        "id": "LfPtzijwneux",
        "outputId": "b3a7ec85-0f6b-4fe1-9446-845df37587d0"
      },
      "execution_count": null,
      "outputs": [
        {
          "output_type": "error",
          "ename": "SyntaxError",
          "evalue": "ignored",
          "traceback": [
            "\u001b[0;36m  File \u001b[0;32m\"<ipython-input-7-c824e78b231e>\"\u001b[0;36m, line \u001b[0;32m3\u001b[0m\n\u001b[0;31m    first name=\"wandy\"\u001b[0m\n\u001b[0m             ^\u001b[0m\n\u001b[0;31mSyntaxError\u001b[0m\u001b[0;31m:\u001b[0m invalid syntax\n"
          ]
        }
      ]
    },
    {
      "cell_type": "code",
      "source": [
        "# No digit as prefix\n",
        "\n",
        "3mail=\"wandy@gmail.com\"\n"
      ],
      "metadata": {
        "colab": {
          "base_uri": "https://localhost:8080/",
          "height": 130
        },
        "id": "VTPNCTVNnlEx",
        "outputId": "55fa0d26-b38f-417b-81aa-2bb940d8f636"
      },
      "execution_count": null,
      "outputs": [
        {
          "output_type": "error",
          "ename": "SyntaxError",
          "evalue": "ignored",
          "traceback": [
            "\u001b[0;36m  File \u001b[0;32m\"<ipython-input-10-276f3533c660>\"\u001b[0;36m, line \u001b[0;32m3\u001b[0m\n\u001b[0;31m    3mail=\"wandy@gmail.com\"\u001b[0m\n\u001b[0m        ^\u001b[0m\n\u001b[0;31mSyntaxError\u001b[0m\u001b[0;31m:\u001b[0m invalid syntax\n"
          ]
        }
      ]
    },
    {
      "cell_type": "code",
      "source": [
        "#No symbol as prefix\n",
        "\n",
        "@name=\"Wandy\""
      ],
      "metadata": {
        "colab": {
          "base_uri": "https://localhost:8080/",
          "height": 130
        },
        "id": "d23GlUEan4ja",
        "outputId": "db28aa29-8c99-4a12-8f0b-685cd00bb3a5"
      },
      "execution_count": null,
      "outputs": [
        {
          "output_type": "error",
          "ename": "SyntaxError",
          "evalue": "ignored",
          "traceback": [
            "\u001b[0;36m  File \u001b[0;32m\"<ipython-input-11-af982e3abb9f>\"\u001b[0;36m, line \u001b[0;32m1\u001b[0m\n\u001b[0;31m    @name=\"Wandy\"\u001b[0m\n\u001b[0m         ^\u001b[0m\n\u001b[0;31mSyntaxError\u001b[0m\u001b[0;31m:\u001b[0m invalid syntax\n"
          ]
        }
      ]
    },
    {
      "cell_type": "code",
      "source": [
        "# how to comment:\n",
        "# ctrl + /\n"
      ],
      "metadata": {
        "id": "3d14axspoD1q"
      },
      "execution_count": null,
      "outputs": []
    },
    {
      "cell_type": "code",
      "source": [
        "print(\"haha\")"
      ],
      "metadata": {
        "colab": {
          "base_uri": "https://localhost:8080/"
        },
        "id": "tXUSatgMoaGU",
        "outputId": "3eab5511-4517-4be8-89b1-af44fe0a2b93"
      },
      "execution_count": null,
      "outputs": [
        {
          "output_type": "stream",
          "name": "stdout",
          "text": [
            "haha\n"
          ]
        }
      ]
    },
    {
      "cell_type": "code",
      "source": [
        "age=12\n",
        "\n",
        "print(age)"
      ],
      "metadata": {
        "colab": {
          "base_uri": "https://localhost:8080/"
        },
        "id": "LOEqou66ox8V",
        "outputId": "46486fba-4640-45ce-9739-b8b7945da2c6"
      },
      "execution_count": null,
      "outputs": [
        {
          "output_type": "stream",
          "name": "stdout",
          "text": [
            "12\n"
          ]
        }
      ]
    },
    {
      "cell_type": "code",
      "source": [
        "#addition\n",
        "\n",
        "angka=2+5\n",
        "print(angka)"
      ],
      "metadata": {
        "colab": {
          "base_uri": "https://localhost:8080/"
        },
        "id": "vavPmQe1pVYD",
        "outputId": "f173f6f1-a490-465f-be1e-e62a6af8a13c"
      },
      "execution_count": null,
      "outputs": [
        {
          "output_type": "stream",
          "name": "stdout",
          "text": [
            "7\n"
          ]
        }
      ]
    },
    {
      "cell_type": "code",
      "source": [
        "#substraction\n",
        "\n",
        "10-5"
      ],
      "metadata": {
        "colab": {
          "base_uri": "https://localhost:8080/"
        },
        "id": "ljHDzdSjrFAf",
        "outputId": "7be812dc-481c-4f0d-cd7a-f01181f14a9d"
      },
      "execution_count": null,
      "outputs": [
        {
          "output_type": "execute_result",
          "data": {
            "text/plain": [
              "5"
            ]
          },
          "metadata": {},
          "execution_count": 21
        }
      ]
    },
    {
      "cell_type": "code",
      "source": [
        "#multiplication\n",
        "\n",
        "20*3"
      ],
      "metadata": {
        "colab": {
          "base_uri": "https://localhost:8080/"
        },
        "id": "YdiTiSmYrISK",
        "outputId": "98bd8e6b-3ca1-40b2-d78c-3699f1eda325"
      },
      "execution_count": null,
      "outputs": [
        {
          "output_type": "execute_result",
          "data": {
            "text/plain": [
              "60"
            ]
          },
          "metadata": {},
          "execution_count": 22
        }
      ]
    },
    {
      "cell_type": "code",
      "source": [
        "#division\n",
        "\n",
        "30/5"
      ],
      "metadata": {
        "colab": {
          "base_uri": "https://localhost:8080/"
        },
        "id": "PNeLuSdLrK8N",
        "outputId": "bd615e1f-eb07-4e19-be27-8627c125e8c8"
      },
      "execution_count": null,
      "outputs": [
        {
          "output_type": "execute_result",
          "data": {
            "text/plain": [
              "6.0"
            ]
          },
          "metadata": {},
          "execution_count": 23
        }
      ]
    },
    {
      "cell_type": "code",
      "source": [
        "# exponent\n",
        "2**3"
      ],
      "metadata": {
        "colab": {
          "base_uri": "https://localhost:8080/"
        },
        "id": "wx_r0YverNp3",
        "outputId": "8f24c5d5-20a6-4622-eb10-6265df14d56a"
      },
      "execution_count": null,
      "outputs": [
        {
          "output_type": "execute_result",
          "data": {
            "text/plain": [
              "8"
            ]
          },
          "metadata": {},
          "execution_count": 24
        }
      ]
    },
    {
      "cell_type": "code",
      "source": [
        "#equal\n",
        "\n",
        "2+3==5"
      ],
      "metadata": {
        "colab": {
          "base_uri": "https://localhost:8080/"
        },
        "id": "t8sJq63prTGZ",
        "outputId": "fab61c09-6f40-44f8-bbc8-d51d443ded1c"
      },
      "execution_count": null,
      "outputs": [
        {
          "output_type": "execute_result",
          "data": {
            "text/plain": [
              "True"
            ]
          },
          "metadata": {},
          "execution_count": 25
        }
      ]
    },
    {
      "cell_type": "code",
      "source": [
        "#equal\n",
        "\n",
        "2+3==6"
      ],
      "metadata": {
        "colab": {
          "base_uri": "https://localhost:8080/"
        },
        "id": "FDnJ5y1xrY-Y",
        "outputId": "595b3381-93c5-47c4-ce41-6d01358b3575"
      },
      "execution_count": null,
      "outputs": [
        {
          "output_type": "execute_result",
          "data": {
            "text/plain": [
              "False"
            ]
          },
          "metadata": {},
          "execution_count": 26
        }
      ]
    },
    {
      "cell_type": "code",
      "source": [
        "#comparison\n",
        "\n",
        "2+3>=5"
      ],
      "metadata": {
        "colab": {
          "base_uri": "https://localhost:8080/"
        },
        "id": "mRMzHqyArdmW",
        "outputId": "55a6d90b-658c-4e0b-ac6c-e330465a42ed"
      },
      "execution_count": null,
      "outputs": [
        {
          "output_type": "execute_result",
          "data": {
            "text/plain": [
              "True"
            ]
          },
          "metadata": {},
          "execution_count": 28
        }
      ]
    },
    {
      "cell_type": "code",
      "source": [
        "#comparison\n",
        "\n",
        "\n",
        "5*2<20"
      ],
      "metadata": {
        "colab": {
          "base_uri": "https://localhost:8080/"
        },
        "id": "GHuk05IKrpto",
        "outputId": "94626531-5679-42fe-e7f0-90bacda535d9"
      },
      "execution_count": null,
      "outputs": [
        {
          "output_type": "execute_result",
          "data": {
            "text/plain": [
              "True"
            ]
          },
          "metadata": {},
          "execution_count": 29
        }
      ]
    },
    {
      "cell_type": "code",
      "source": [
        "name=\"Mayella\"\n",
        "name"
      ],
      "metadata": {
        "colab": {
          "base_uri": "https://localhost:8080/",
          "height": 35
        },
        "id": "yfWi3Jf6sJy1",
        "outputId": "df488bed-5b14-4579-9857-6817c3b878a9"
      },
      "execution_count": null,
      "outputs": [
        {
          "output_type": "execute_result",
          "data": {
            "text/plain": [
              "'Mayella'"
            ],
            "application/vnd.google.colaboratory.intrinsic+json": {
              "type": "string"
            }
          },
          "metadata": {},
          "execution_count": 35
        }
      ]
    },
    {
      "cell_type": "code",
      "source": [
        "angka1=12\n",
        "angka2=3\n",
        "\n",
        "angka1+angka2"
      ],
      "metadata": {
        "colab": {
          "base_uri": "https://localhost:8080/"
        },
        "id": "Bpf4JcayruKy",
        "outputId": "214776fd-3646-48b5-fc89-b5cef4a8a862"
      },
      "execution_count": null,
      "outputs": [
        {
          "output_type": "execute_result",
          "data": {
            "text/plain": [
              "15"
            ]
          },
          "metadata": {},
          "execution_count": 40
        }
      ]
    },
    {
      "cell_type": "code",
      "source": [
        "print('Halim')"
      ],
      "metadata": {
        "colab": {
          "base_uri": "https://localhost:8080/"
        },
        "id": "DQCeFam5sqpz",
        "outputId": "5a12a857-25a5-40d0-c088-748c1d674f96"
      },
      "execution_count": null,
      "outputs": [
        {
          "output_type": "stream",
          "name": "stdout",
          "text": [
            "Halim\n"
          ]
        }
      ]
    },
    {
      "cell_type": "code",
      "source": [
        "p=500\n",
        "q=10\n",
        "\n",
        "total=p*q\n",
        "\n",
        "print(total)"
      ],
      "metadata": {
        "colab": {
          "base_uri": "https://localhost:8080/"
        },
        "id": "79uYVV_HtgN8",
        "outputId": "02deb3eb-451a-424d-f62c-115961838b6f"
      },
      "execution_count": null,
      "outputs": [
        {
          "output_type": "stream",
          "name": "stdout",
          "text": [
            "5000\n"
          ]
        }
      ]
    },
    {
      "cell_type": "code",
      "source": [
        "#concatenate \n",
        "f_name=\"Dea\"\n",
        "l_name=\"Febri\"\n",
        "\n",
        "fullname=f_name+\" \"+l_name\n",
        "print(fullname)"
      ],
      "metadata": {
        "colab": {
          "base_uri": "https://localhost:8080/"
        },
        "id": "EFu_fzv-ts42",
        "outputId": "d1aff8e6-e314-4566-8572-fed25dab9a5e"
      },
      "execution_count": null,
      "outputs": [
        {
          "output_type": "stream",
          "name": "stdout",
          "text": [
            "Dea Febri\n"
          ]
        }
      ]
    },
    {
      "cell_type": "code",
      "source": [
        "#uppercase\n",
        "name=\"lathifa\"\n",
        "name_uppercase=name.upper()\n",
        "print(name_uppercase)"
      ],
      "metadata": {
        "colab": {
          "base_uri": "https://localhost:8080/"
        },
        "id": "INHD6OgmuAlH",
        "outputId": "21845838-cf6f-4d5a-b71e-b387fee5c66e"
      },
      "execution_count": null,
      "outputs": [
        {
          "output_type": "stream",
          "name": "stdout",
          "text": [
            "LATHIFA\n"
          ]
        }
      ]
    },
    {
      "cell_type": "code",
      "source": [
        "#lowercase\n",
        "name=\"RAIHAN\"\n",
        "name_lowercase=name.lower()\n",
        "print(name_lowercase)"
      ],
      "metadata": {
        "colab": {
          "base_uri": "https://localhost:8080/"
        },
        "id": "2YZ0hixiuX3d",
        "outputId": "01feed22-eb88-4af0-e6dc-f6f0866190b7"
      },
      "execution_count": null,
      "outputs": [
        {
          "output_type": "stream",
          "name": "stdout",
          "text": [
            "raihan\n"
          ]
        }
      ]
    },
    {
      "cell_type": "code",
      "source": [
        "#replace\n",
        "text=\"abcdefg\"\n",
        "text.replace('abc','zz')"
      ],
      "metadata": {
        "colab": {
          "base_uri": "https://localhost:8080/",
          "height": 35
        },
        "id": "00QR6d2VujCY",
        "outputId": "42272410-37ac-415a-ec14-fc7c3a20e810"
      },
      "execution_count": null,
      "outputs": [
        {
          "output_type": "execute_result",
          "data": {
            "text/plain": [
              "'zzdefg'"
            ],
            "application/vnd.google.colaboratory.intrinsic+json": {
              "type": "string"
            }
          },
          "metadata": {},
          "execution_count": 51
        }
      ]
    },
    {
      "cell_type": "code",
      "source": [
        "name=\"Yusup\"\n",
        "\n",
        "name==\"Yusup\""
      ],
      "metadata": {
        "colab": {
          "base_uri": "https://localhost:8080/"
        },
        "id": "jeqblkAcu1lg",
        "outputId": "7764b978-c817-4aae-f691-815b9ce7a188"
      },
      "execution_count": null,
      "outputs": [
        {
          "output_type": "execute_result",
          "data": {
            "text/plain": [
              "True"
            ]
          },
          "metadata": {},
          "execution_count": 56
        }
      ]
    },
    {
      "cell_type": "code",
      "source": [
        "phone_number = \"+62801-0029-9000\"\n",
        "\n",
        "pn1=phone_number.replace(\"+628\",\"0\")\n",
        "pn2=pn1.replace(\"-\",\"\")\n",
        "\n",
        "pn2"
      ],
      "metadata": {
        "colab": {
          "base_uri": "https://localhost:8080/",
          "height": 35
        },
        "id": "gTwggy_DvJZB",
        "outputId": "bd14c1f8-a26f-4400-af9d-063cc880a281"
      },
      "execution_count": null,
      "outputs": [
        {
          "output_type": "execute_result",
          "data": {
            "text/plain": [
              "'00100299000'"
            ],
            "application/vnd.google.colaboratory.intrinsic+json": {
              "type": "string"
            }
          },
          "metadata": {},
          "execution_count": 62
        }
      ]
    },
    {
      "cell_type": "code",
      "source": [
        "phone_number.replace(\"+628\",\"0\").replace(\"-\",\"\").replace(\"0\",\"@\")"
      ],
      "metadata": {
        "colab": {
          "base_uri": "https://localhost:8080/",
          "height": 35
        },
        "id": "n2PmQu1bwpP_",
        "outputId": "b8bab166-2f61-457a-8c34-7707b2a042f0"
      },
      "execution_count": null,
      "outputs": [
        {
          "output_type": "execute_result",
          "data": {
            "text/plain": [
              "'@@1@@299@@@'"
            ],
            "application/vnd.google.colaboratory.intrinsic+json": {
              "type": "string"
            }
          },
          "metadata": {},
          "execution_count": 65
        }
      ]
    },
    {
      "cell_type": "code",
      "source": [
        "1+1==2 and 1+1==3"
      ],
      "metadata": {
        "colab": {
          "base_uri": "https://localhost:8080/"
        },
        "id": "efojAG9kw9m5",
        "outputId": "0b40d45f-af1e-408f-b881-b7e3eb50cbcf"
      },
      "execution_count": null,
      "outputs": [
        {
          "output_type": "execute_result",
          "data": {
            "text/plain": [
              "False"
            ]
          },
          "metadata": {},
          "execution_count": 67
        }
      ]
    },
    {
      "cell_type": "code",
      "source": [
        "1+1==2 and 1*1==1"
      ],
      "metadata": {
        "colab": {
          "base_uri": "https://localhost:8080/"
        },
        "id": "7oRN1vRGxP4z",
        "outputId": "54ab397f-9b91-46f7-a42f-f8d9da92cf81"
      },
      "execution_count": null,
      "outputs": [
        {
          "output_type": "execute_result",
          "data": {
            "text/plain": [
              "True"
            ]
          },
          "metadata": {},
          "execution_count": 69
        }
      ]
    },
    {
      "cell_type": "code",
      "source": [
        "1+1==2 or 1*1==1000"
      ],
      "metadata": {
        "colab": {
          "base_uri": "https://localhost:8080/"
        },
        "id": "qtIJV3tGxcG6",
        "outputId": "941fda58-bc68-4fb5-f09f-b656c9308311"
      },
      "execution_count": null,
      "outputs": [
        {
          "output_type": "execute_result",
          "data": {
            "text/plain": [
              "True"
            ]
          },
          "metadata": {},
          "execution_count": 71
        }
      ]
    },
    {
      "cell_type": "code",
      "source": [
        "1+1==9999 or 2+2== -9000"
      ],
      "metadata": {
        "colab": {
          "base_uri": "https://localhost:8080/"
        },
        "id": "8JFLVwrIxlGB",
        "outputId": "a354e452-b955-4b98-ed36-3512c19491a3"
      },
      "execution_count": null,
      "outputs": [
        {
          "output_type": "execute_result",
          "data": {
            "text/plain": [
              "False"
            ]
          },
          "metadata": {},
          "execution_count": 73
        }
      ]
    },
    {
      "cell_type": "code",
      "source": [
        "soto =\"15000\"\n",
        "ketoprak = \"12000\"\n",
        "\n",
        "ketoprak > soto"
      ],
      "metadata": {
        "colab": {
          "base_uri": "https://localhost:8080/"
        },
        "id": "-mecnp4yxvjb",
        "outputId": "488c526e-6c26-4024-a879-81cdce1a2f98"
      },
      "execution_count": null,
      "outputs": [
        {
          "output_type": "execute_result",
          "data": {
            "text/plain": [
              "False"
            ]
          },
          "metadata": {},
          "execution_count": 75
        }
      ]
    },
    {
      "cell_type": "code",
      "source": [
        "a=2\n",
        "b=5\n",
        "c=7\n",
        "#True or False => True\n",
        "a<b or c<a"
      ],
      "metadata": {
        "colab": {
          "base_uri": "https://localhost:8080/"
        },
        "id": "s5iv1ltTx9pH",
        "outputId": "0d9a504c-b94a-4e05-8127-b64481e24787"
      },
      "execution_count": null,
      "outputs": [
        {
          "output_type": "execute_result",
          "data": {
            "text/plain": [
              "True"
            ]
          },
          "metadata": {},
          "execution_count": 78
        }
      ]
    },
    {
      "cell_type": "code",
      "source": [
        "name=\"Wandy\"\n",
        "age = 16\n",
        "\n",
        "name+str(age)"
      ],
      "metadata": {
        "colab": {
          "base_uri": "https://localhost:8080/",
          "height": 35
        },
        "id": "bEF5fk80yLyB",
        "outputId": "c9196c6b-4aad-40b6-9cbb-18cd73716fe5"
      },
      "execution_count": null,
      "outputs": [
        {
          "output_type": "execute_result",
          "data": {
            "text/plain": [
              "'Wandy16'"
            ],
            "application/vnd.google.colaboratory.intrinsic+json": {
              "type": "string"
            }
          },
          "metadata": {},
          "execution_count": 80
        }
      ]
    },
    {
      "cell_type": "code",
      "source": [
        "total1=50\n",
        "total2=\"60\"\n",
        "\n",
        "total2= int(total2)\n",
        "\n",
        "total1+total2"
      ],
      "metadata": {
        "colab": {
          "base_uri": "https://localhost:8080/"
        },
        "id": "JnVYiUX_ytRf",
        "outputId": "214a93d5-3555-49cb-c3f8-c97831dc004a"
      },
      "execution_count": null,
      "outputs": [
        {
          "output_type": "execute_result",
          "data": {
            "text/plain": [
              "110"
            ]
          },
          "metadata": {},
          "execution_count": 85
        }
      ]
    },
    {
      "cell_type": "code",
      "source": [
        "names=['Wandy','Ramadhoni',\"Khoirun\"]\n",
        "ages=[12,41,42,30]\n",
        "\n",
        "test_list=[12,\"Water\",\"Earth\",20, 20.5]\n",
        "test_list"
      ],
      "metadata": {
        "colab": {
          "base_uri": "https://localhost:8080/"
        },
        "id": "eVx7GMLhzfBU",
        "outputId": "6d3c5903-683b-464d-b60e-29e563fe7883"
      },
      "execution_count": null,
      "outputs": [
        {
          "output_type": "execute_result",
          "data": {
            "text/plain": [
              "[12, 'Water', 'Earth', 20, 20.5]"
            ]
          },
          "metadata": {},
          "execution_count": 90
        }
      ]
    },
    {
      "cell_type": "code",
      "source": [
        "my_newList=[]\n",
        "my_newList"
      ],
      "metadata": {
        "colab": {
          "base_uri": "https://localhost:8080/"
        },
        "id": "kzHyeXMqz2K2",
        "outputId": "145a4db4-f4ed-4661-a780-fb5e034b6cd1"
      },
      "execution_count": null,
      "outputs": [
        {
          "output_type": "execute_result",
          "data": {
            "text/plain": [
              "[]"
            ]
          },
          "metadata": {},
          "execution_count": 91
        }
      ]
    },
    {
      "cell_type": "code",
      "source": [
        ""
      ],
      "metadata": {
        "id": "8zBXEfIb0I9w"
      },
      "execution_count": null,
      "outputs": []
    },
    {
      "cell_type": "code",
      "source": [
        "names=['Wandy','Ramadhoni',\"Khoirun\",\"Santi\",\"Auliya\",\"Raihan\"]\n",
        "\n",
        "names[0]"
      ],
      "metadata": {
        "colab": {
          "base_uri": "https://localhost:8080/",
          "height": 35
        },
        "id": "doX3cm_g0JAU",
        "outputId": "198fbd5d-039c-4df5-c5eb-b1551b75f6a8"
      },
      "execution_count": null,
      "outputs": [
        {
          "output_type": "execute_result",
          "data": {
            "text/plain": [
              "'Wandy'"
            ],
            "application/vnd.google.colaboratory.intrinsic+json": {
              "type": "string"
            }
          },
          "metadata": {},
          "execution_count": 100
        }
      ]
    },
    {
      "cell_type": "code",
      "source": [
        "names[1]"
      ],
      "metadata": {
        "colab": {
          "base_uri": "https://localhost:8080/",
          "height": 35
        },
        "id": "pKkGC87w0QV2",
        "outputId": "bb63138c-9c9d-46d5-d8ff-cd41bd0cd0ec"
      },
      "execution_count": null,
      "outputs": [
        {
          "output_type": "execute_result",
          "data": {
            "text/plain": [
              "'Ramadhoni'"
            ],
            "application/vnd.google.colaboratory.intrinsic+json": {
              "type": "string"
            }
          },
          "metadata": {},
          "execution_count": 94
        }
      ]
    },
    {
      "cell_type": "code",
      "source": [
        "names[3]"
      ],
      "metadata": {
        "colab": {
          "base_uri": "https://localhost:8080/",
          "height": 35
        },
        "id": "CqLD8gIF0Sd6",
        "outputId": "a2151a4f-6cb6-4aea-9c11-dcf32868cd76"
      },
      "execution_count": null,
      "outputs": [
        {
          "output_type": "execute_result",
          "data": {
            "text/plain": [
              "'Santi'"
            ],
            "application/vnd.google.colaboratory.intrinsic+json": {
              "type": "string"
            }
          },
          "metadata": {},
          "execution_count": 95
        }
      ]
    },
    {
      "cell_type": "code",
      "source": [
        "names[2:5]"
      ],
      "metadata": {
        "colab": {
          "base_uri": "https://localhost:8080/"
        },
        "id": "fK1Fgd150b-t",
        "outputId": "e7b19737-cd14-4717-df07-feffe5d22295"
      },
      "execution_count": null,
      "outputs": [
        {
          "output_type": "execute_result",
          "data": {
            "text/plain": [
              "['Khoirun', 'Santi', 'Auliya']"
            ]
          },
          "metadata": {},
          "execution_count": 105
        }
      ]
    },
    {
      "cell_type": "code",
      "source": [
        "names[1:]"
      ],
      "metadata": {
        "colab": {
          "base_uri": "https://localhost:8080/"
        },
        "id": "wqzQPL7X09Is",
        "outputId": "d069d3ff-a123-41be-de5e-6ff37f5ff7da"
      },
      "execution_count": null,
      "outputs": [
        {
          "output_type": "execute_result",
          "data": {
            "text/plain": [
              "['Ramadhoni', 'Khoirun', 'Santi', 'Auliya', 'Raihan']"
            ]
          },
          "metadata": {},
          "execution_count": 107
        }
      ]
    },
    {
      "cell_type": "code",
      "source": [
        "names[:3]"
      ],
      "metadata": {
        "colab": {
          "base_uri": "https://localhost:8080/"
        },
        "id": "dKthCf7u1DyZ",
        "outputId": "12418f98-e962-438f-f752-a3fbf117aaee"
      },
      "execution_count": null,
      "outputs": [
        {
          "output_type": "execute_result",
          "data": {
            "text/plain": [
              "['Wandy', 'Ramadhoni', 'Khoirun']"
            ]
          },
          "metadata": {},
          "execution_count": 109
        }
      ]
    },
    {
      "cell_type": "code",
      "source": [
        "names"
      ],
      "metadata": {
        "colab": {
          "base_uri": "https://localhost:8080/"
        },
        "id": "ckUUpjZT1S-r",
        "outputId": "e59c7aa6-6c9a-4e18-a509-feb54be5fb16"
      },
      "execution_count": null,
      "outputs": [
        {
          "output_type": "execute_result",
          "data": {
            "text/plain": [
              "['Wandy', 'Ramadhoni', 'Khoirun', 'Santi', 'Auliya', 'Raihan']"
            ]
          },
          "metadata": {},
          "execution_count": 110
        }
      ]
    },
    {
      "cell_type": "code",
      "source": [
        "new_name=\"Wendy\"\n",
        "names.append(new_name)\n",
        "names"
      ],
      "metadata": {
        "colab": {
          "base_uri": "https://localhost:8080/"
        },
        "id": "jK6NGzfU1YoS",
        "outputId": "334fe288-9bcb-4170-81bb-428816916c05"
      },
      "execution_count": null,
      "outputs": [
        {
          "output_type": "execute_result",
          "data": {
            "text/plain": [
              "['Wandy',\n",
              " 'Ramadhoni',\n",
              " 'Khoirun',\n",
              " 'Santi',\n",
              " 'Auliya',\n",
              " 'Raihan',\n",
              " 'Wendy',\n",
              " 'Wendy']"
            ]
          },
          "metadata": {},
          "execution_count": 113
        }
      ]
    },
    {
      "cell_type": "code",
      "source": [
        "names.remove(\"Auliya\")\n",
        "names"
      ],
      "metadata": {
        "colab": {
          "base_uri": "https://localhost:8080/"
        },
        "id": "RWsWG5_R1qHC",
        "outputId": "8addcf00-eb26-4e1a-ddb9-aa116b1181a4"
      },
      "execution_count": null,
      "outputs": [
        {
          "output_type": "execute_result",
          "data": {
            "text/plain": [
              "['Wandy', 'Ramadhoni', 'Khoirun', 'Santi', 'Raihan', 'Wendy', 'Wendy']"
            ]
          },
          "metadata": {},
          "execution_count": 114
        }
      ]
    },
    {
      "cell_type": "code",
      "source": [
        "len(names)"
      ],
      "metadata": {
        "colab": {
          "base_uri": "https://localhost:8080/"
        },
        "id": "hsfixpxx10Tk",
        "outputId": "860d74b7-7c93-41cd-a2b5-3ee1d8842fb3"
      },
      "execution_count": null,
      "outputs": [
        {
          "output_type": "execute_result",
          "data": {
            "text/plain": [
              "7"
            ]
          },
          "metadata": {},
          "execution_count": 115
        }
      ]
    },
    {
      "cell_type": "code",
      "source": [
        "students=[['Wandy','Syafitri'],'Dea','Giffari']\n",
        "\n",
        "students[0][1]"
      ],
      "metadata": {
        "colab": {
          "base_uri": "https://localhost:8080/",
          "height": 35
        },
        "id": "cd5LM5UI1_qq",
        "outputId": "7dcecf16-6fc8-42a5-8703-296089d4af49"
      },
      "execution_count": null,
      "outputs": [
        {
          "output_type": "execute_result",
          "data": {
            "text/plain": [
              "'Syafitri'"
            ],
            "application/vnd.google.colaboratory.intrinsic+json": {
              "type": "string"
            }
          },
          "metadata": {},
          "execution_count": 118
        }
      ]
    },
    {
      "cell_type": "code",
      "source": [
        "students[1]"
      ],
      "metadata": {
        "colab": {
          "base_uri": "https://localhost:8080/",
          "height": 35
        },
        "id": "fDLJ9S1d2jby",
        "outputId": "a06fe1eb-6c9d-4696-c5a3-2000971e21e4"
      },
      "execution_count": null,
      "outputs": [
        {
          "output_type": "execute_result",
          "data": {
            "text/plain": [
              "'Dea'"
            ],
            "application/vnd.google.colaboratory.intrinsic+json": {
              "type": "string"
            }
          },
          "metadata": {},
          "execution_count": 119
        }
      ]
    },
    {
      "cell_type": "code",
      "source": [
        "names"
      ],
      "metadata": {
        "colab": {
          "base_uri": "https://localhost:8080/"
        },
        "id": "JX1GVCTY2qaz",
        "outputId": "22c77d94-c666-42cd-f5ae-e83c89d03d5d"
      },
      "execution_count": null,
      "outputs": [
        {
          "output_type": "execute_result",
          "data": {
            "text/plain": [
              "['Wandy', 'Ramadhoni', 'Khoirun', 'Santi', 'Raihan', 'Wendy', 'Wendy']"
            ]
          },
          "metadata": {},
          "execution_count": 120
        }
      ]
    },
    {
      "cell_type": "code",
      "source": [
        "nama_yg_mau_dihapus=['Wandy','Wendy']\n",
        "\n",
        "for nama in nama_yg_mau_dihapus:\n",
        "  names.remove(nama)\n",
        "  \n",
        "names"
      ],
      "metadata": {
        "colab": {
          "base_uri": "https://localhost:8080/"
        },
        "id": "fZNNsIbL25V-",
        "outputId": "08a7c090-57b5-41c3-c54b-b4d738e7f44b"
      },
      "execution_count": null,
      "outputs": [
        {
          "output_type": "execute_result",
          "data": {
            "text/plain": [
              "['Ramadhoni', 'Khoirun', 'Santi', 'Raihan', 'Wendy']"
            ]
          },
          "metadata": {},
          "execution_count": 121
        }
      ]
    },
    {
      "cell_type": "code",
      "source": [
        "num_list=['12','14',[16,20,30]]\n",
        "\n",
        "num_list[1]"
      ],
      "metadata": {
        "colab": {
          "base_uri": "https://localhost:8080/",
          "height": 35
        },
        "id": "BeRtGjVe3O7o",
        "outputId": "2fd534fc-45da-4a90-f7c5-99a06b6527e3"
      },
      "execution_count": null,
      "outputs": [
        {
          "output_type": "execute_result",
          "data": {
            "text/plain": [
              "'14'"
            ],
            "application/vnd.google.colaboratory.intrinsic+json": {
              "type": "string"
            }
          },
          "metadata": {},
          "execution_count": 123
        }
      ]
    },
    {
      "cell_type": "code",
      "source": [
        "num_list[2]"
      ],
      "metadata": {
        "colab": {
          "base_uri": "https://localhost:8080/"
        },
        "id": "crS8vrD84GS4",
        "outputId": "4dc06aaa-3a23-4441-df45-1a1122ee59dd"
      },
      "execution_count": null,
      "outputs": [
        {
          "output_type": "execute_result",
          "data": {
            "text/plain": [
              "[16, 20, 30]"
            ]
          },
          "metadata": {},
          "execution_count": 124
        }
      ]
    },
    {
      "cell_type": "code",
      "source": [
        "num_list[2][1]"
      ],
      "metadata": {
        "colab": {
          "base_uri": "https://localhost:8080/"
        },
        "id": "QTe0rK3M4J9J",
        "outputId": "5d2e8226-5eda-4fde-8b9b-17c4cafd8926"
      },
      "execution_count": null,
      "outputs": [
        {
          "output_type": "execute_result",
          "data": {
            "text/plain": [
              "20"
            ]
          },
          "metadata": {},
          "execution_count": 126
        }
      ]
    },
    {
      "cell_type": "code",
      "source": [
        "numbers=[1,4,6,10,30,50]\n",
        "\n",
        "min(numbers)"
      ],
      "metadata": {
        "colab": {
          "base_uri": "https://localhost:8080/"
        },
        "id": "amQlDUzB4SQU",
        "outputId": "9cb68b82-0620-47b7-b9c5-d6f3b5eccd24"
      },
      "execution_count": null,
      "outputs": [
        {
          "output_type": "execute_result",
          "data": {
            "text/plain": [
              "1"
            ]
          },
          "metadata": {},
          "execution_count": 127
        }
      ]
    },
    {
      "cell_type": "code",
      "source": [
        "max(numbers)"
      ],
      "metadata": {
        "colab": {
          "base_uri": "https://localhost:8080/"
        },
        "id": "1KEZ5h2u4d1r",
        "outputId": "201750ed-62a5-42dd-cf59-b6175d300418"
      },
      "execution_count": null,
      "outputs": [
        {
          "output_type": "execute_result",
          "data": {
            "text/plain": [
              "50"
            ]
          },
          "metadata": {},
          "execution_count": 128
        }
      ]
    },
    {
      "cell_type": "code",
      "source": [
        "sum(numbers)"
      ],
      "metadata": {
        "colab": {
          "base_uri": "https://localhost:8080/"
        },
        "id": "gZr_h9vC4glx",
        "outputId": "78b1eabe-38b4-4e17-ebc2-03149829225c"
      },
      "execution_count": null,
      "outputs": [
        {
          "output_type": "execute_result",
          "data": {
            "text/plain": [
              "101"
            ]
          },
          "metadata": {},
          "execution_count": 129
        }
      ]
    },
    {
      "cell_type": "code",
      "source": [
        "numbers=[2,3,6,20,22]\n",
        "\n",
        "\n",
        "max(numbers)-min(numbers)"
      ],
      "metadata": {
        "colab": {
          "base_uri": "https://localhost:8080/"
        },
        "id": "dl5QJhjV4jUg",
        "outputId": "8cbc15f3-2de0-48e8-ae89-5831c7006e50"
      },
      "execution_count": null,
      "outputs": [
        {
          "output_type": "execute_result",
          "data": {
            "text/plain": [
              "20"
            ]
          },
          "metadata": {},
          "execution_count": 130
        }
      ]
    },
    {
      "cell_type": "code",
      "source": [
        "sum(numbers)"
      ],
      "metadata": {
        "colab": {
          "base_uri": "https://localhost:8080/"
        },
        "id": "dhFPYjoE5_tK",
        "outputId": "6d5cebac-b44d-4619-fd3b-cdbecd11ec41"
      },
      "execution_count": null,
      "outputs": [
        {
          "output_type": "execute_result",
          "data": {
            "text/plain": [
              "53"
            ]
          },
          "metadata": {},
          "execution_count": 131
        }
      ]
    },
    {
      "cell_type": "code",
      "source": [
        "numbers[1:4]"
      ],
      "metadata": {
        "colab": {
          "base_uri": "https://localhost:8080/"
        },
        "id": "yJpuLxjD6CPA",
        "outputId": "c88a752a-e554-41dd-bd9e-ce056610dcce"
      },
      "execution_count": null,
      "outputs": [
        {
          "output_type": "execute_result",
          "data": {
            "text/plain": [
              "[3, 6, 20]"
            ]
          },
          "metadata": {},
          "execution_count": 133
        }
      ]
    },
    {
      "cell_type": "code",
      "source": [
        "numbers.append(50)"
      ],
      "metadata": {
        "id": "BGxcOeKu6PRL"
      },
      "execution_count": null,
      "outputs": []
    },
    {
      "cell_type": "code",
      "source": [
        "numbers"
      ],
      "metadata": {
        "colab": {
          "base_uri": "https://localhost:8080/"
        },
        "id": "iEGLvhJy6RgM",
        "outputId": "33981764-c8f4-4b6d-b329-ee5e4b7e6484"
      },
      "execution_count": null,
      "outputs": [
        {
          "output_type": "execute_result",
          "data": {
            "text/plain": [
              "[2, 3, 6, 20, 22, 50]"
            ]
          },
          "metadata": {},
          "execution_count": 135
        }
      ]
    },
    {
      "cell_type": "code",
      "source": [
        "students={}"
      ],
      "metadata": {
        "id": "n0DqnpCN6VdE"
      },
      "execution_count": null,
      "outputs": []
    },
    {
      "cell_type": "code",
      "source": [
        "students={\n",
        "    'name' : 'Syafitri',\n",
        "    'gender' : 'F'\n",
        "}\n",
        "\n",
        "students['name']"
      ],
      "metadata": {
        "colab": {
          "base_uri": "https://localhost:8080/",
          "height": 35
        },
        "id": "d1FP0OmR64bO",
        "outputId": "90266c69-2958-4c23-f17e-71df097674e9"
      },
      "execution_count": null,
      "outputs": [
        {
          "output_type": "execute_result",
          "data": {
            "text/plain": [
              "'Syafitri'"
            ],
            "application/vnd.google.colaboratory.intrinsic+json": {
              "type": "string"
            }
          },
          "metadata": {},
          "execution_count": 139
        }
      ]
    },
    {
      "cell_type": "code",
      "source": [
        "students['gender']"
      ],
      "metadata": {
        "colab": {
          "base_uri": "https://localhost:8080/",
          "height": 35
        },
        "id": "KZn6iV1c7KGw",
        "outputId": "a9c85fca-457c-420f-f733-1c6d9315acb8"
      },
      "execution_count": null,
      "outputs": [
        {
          "output_type": "execute_result",
          "data": {
            "text/plain": [
              "'F'"
            ],
            "application/vnd.google.colaboratory.intrinsic+json": {
              "type": "string"
            }
          },
          "metadata": {},
          "execution_count": 140
        }
      ]
    },
    {
      "cell_type": "code",
      "source": [
        "students={\n",
        "    'name':['Syafitri','Fatia','Khoirun'],\n",
        "    'hobby':['Coding','Study','Sleeping']\n",
        "}\n",
        "\n",
        "\n",
        "students['name'][1]"
      ],
      "metadata": {
        "colab": {
          "base_uri": "https://localhost:8080/",
          "height": 35
        },
        "id": "mJFt-u4E7PG7",
        "outputId": "d077abdb-0c29-489e-aee2-3a3ff4778dfe"
      },
      "execution_count": null,
      "outputs": [
        {
          "output_type": "execute_result",
          "data": {
            "text/plain": [
              "'Fatia'"
            ],
            "application/vnd.google.colaboratory.intrinsic+json": {
              "type": "string"
            }
          },
          "metadata": {},
          "execution_count": 142
        }
      ]
    },
    {
      "cell_type": "code",
      "source": [
        "students['hobby'][0]"
      ],
      "metadata": {
        "colab": {
          "base_uri": "https://localhost:8080/",
          "height": 35
        },
        "id": "MDUwtnl77mOK",
        "outputId": "718e5cf1-2776-4ab2-bc5d-a5dbc3094668"
      },
      "execution_count": null,
      "outputs": [
        {
          "output_type": "execute_result",
          "data": {
            "text/plain": [
              "'Coding'"
            ],
            "application/vnd.google.colaboratory.intrinsic+json": {
              "type": "string"
            }
          },
          "metadata": {},
          "execution_count": 145
        }
      ]
    },
    {
      "cell_type": "code",
      "source": [
        "food_price={\n",
        "    'name':['Soto','Pempek'],\n",
        "    'price':[7000,5000]\n",
        "}\n",
        "\n",
        "food_price"
      ],
      "metadata": {
        "colab": {
          "base_uri": "https://localhost:8080/"
        },
        "id": "YnrLn0KX9a2k",
        "outputId": "ec70b8fb-42a3-44ff-ef94-6f50c43cb07f"
      },
      "execution_count": null,
      "outputs": [
        {
          "output_type": "execute_result",
          "data": {
            "text/plain": [
              "{'name': ['Soto', 'Pempek'], 'price': [7000, 5000]}"
            ]
          },
          "metadata": {},
          "execution_count": 146
        }
      ]
    },
    {
      "cell_type": "code",
      "source": [
        "food_price.keys()"
      ],
      "metadata": {
        "colab": {
          "base_uri": "https://localhost:8080/"
        },
        "id": "vdNfbIgS9tP2",
        "outputId": "686290fd-7545-41a3-e542-6b7f4662a2af"
      },
      "execution_count": null,
      "outputs": [
        {
          "output_type": "execute_result",
          "data": {
            "text/plain": [
              "dict_keys(['name', 'price'])"
            ]
          },
          "metadata": {},
          "execution_count": 148
        }
      ]
    },
    {
      "cell_type": "code",
      "source": [
        "food_price['name']"
      ],
      "metadata": {
        "colab": {
          "base_uri": "https://localhost:8080/"
        },
        "id": "76m2xy4R95q8",
        "outputId": "3ad2ebaf-dbe6-42f9-e481-2f1fe3d5f712"
      },
      "execution_count": null,
      "outputs": [
        {
          "output_type": "execute_result",
          "data": {
            "text/plain": [
              "['Soto', 'Pempek']"
            ]
          },
          "metadata": {},
          "execution_count": 149
        }
      ]
    },
    {
      "cell_type": "code",
      "source": [
        "food_price['price'][0]"
      ],
      "metadata": {
        "colab": {
          "base_uri": "https://localhost:8080/"
        },
        "id": "FEQYzF5R-JnF",
        "outputId": "ea59504e-1fc9-475d-f5d8-ae3486ac7b15"
      },
      "execution_count": null,
      "outputs": [
        {
          "output_type": "execute_result",
          "data": {
            "text/plain": [
              "7000"
            ]
          },
          "metadata": {},
          "execution_count": 153
        }
      ]
    },
    {
      "cell_type": "code",
      "source": [
        "fruits_dict = {\n",
        "    \"fruit\":[\"Mango\", \"Banana\"],\n",
        "    \"Color\":[\"Blue\", \"Red\"],\n",
        "    \"Quantity\":[0,25]\n",
        "}\n",
        "\n",
        "fruits_dict['Quantity']\n"
      ],
      "metadata": {
        "colab": {
          "base_uri": "https://localhost:8080/"
        },
        "id": "Li8X79Z9_D2o",
        "outputId": "ac83d4a0-f1e9-4773-81b1-2632331aae53"
      },
      "execution_count": null,
      "outputs": [
        {
          "output_type": "execute_result",
          "data": {
            "text/plain": [
              "[0, 25]"
            ]
          },
          "metadata": {},
          "execution_count": 159
        }
      ]
    },
    {
      "cell_type": "code",
      "source": [
        "fruits_dict['Color'][1]"
      ],
      "metadata": {
        "colab": {
          "base_uri": "https://localhost:8080/",
          "height": 35
        },
        "id": "VIRei0-b_JGU",
        "outputId": "5fddb159-11f4-4695-8212-1a9a9e5c9f8a"
      },
      "execution_count": null,
      "outputs": [
        {
          "output_type": "execute_result",
          "data": {
            "text/plain": [
              "'Red'"
            ],
            "application/vnd.google.colaboratory.intrinsic+json": {
              "type": "string"
            }
          },
          "metadata": {},
          "execution_count": 157
        }
      ]
    },
    {
      "cell_type": "code",
      "source": [
        "fruits_dict['fruit']=['Apple',\"Pear\"]\n",
        "fruits_dict"
      ],
      "metadata": {
        "colab": {
          "base_uri": "https://localhost:8080/"
        },
        "id": "j3dyCT5Q_QVw",
        "outputId": "007f03ef-e3a8-468c-8ebd-520ac0ce80cf"
      },
      "execution_count": null,
      "outputs": [
        {
          "output_type": "execute_result",
          "data": {
            "text/plain": [
              "{'Color': ['Blue', 'Red'], 'Quantity': [0, 25], 'fruit': ['Apple', 'Pear']}"
            ]
          },
          "metadata": {},
          "execution_count": 160
        }
      ]
    },
    {
      "cell_type": "code",
      "source": [
        "fruits_dict['Color']=['Red','Green']\n",
        "fruits_dict"
      ],
      "metadata": {
        "colab": {
          "base_uri": "https://localhost:8080/"
        },
        "id": "3wsqimnL_iM8",
        "outputId": "1765a366-f970-459d-85a2-a769654cc49a"
      },
      "execution_count": null,
      "outputs": [
        {
          "output_type": "execute_result",
          "data": {
            "text/plain": [
              "{'Color': ['Red', 'Green'], 'Quantity': [0, 25], 'fruit': ['Apple', 'Pear']}"
            ]
          },
          "metadata": {},
          "execution_count": 161
        }
      ]
    },
    {
      "cell_type": "code",
      "source": [
        "fruits_dict['fruit'][0]=\"Watermelon\"\n",
        "fruits_dict"
      ],
      "metadata": {
        "colab": {
          "base_uri": "https://localhost:8080/"
        },
        "id": "ynxO7v8M_w3l",
        "outputId": "d100feef-64b5-45a1-980b-aad85feb128e"
      },
      "execution_count": null,
      "outputs": [
        {
          "output_type": "execute_result",
          "data": {
            "text/plain": [
              "{'Color': ['Red', 'Green'],\n",
              " 'Quantity': [0, 25],\n",
              " 'fruit': ['Watermelon', 'Pear']}"
            ]
          },
          "metadata": {},
          "execution_count": 163
        }
      ]
    },
    {
      "cell_type": "code",
      "source": [
        "students={ \n",
        "\"name\":[\"Budi\",\"Jessica\"],\n",
        "\"age\":[19,24]\n",
        "}\n",
        "# 1.Update the value of name into [‘Arya’,’Yusup’]\n",
        "students['name']=['Arya','Yusup']\n",
        "# 2.Update age value 19=>22\n",
        "students['age'][0]=22"
      ],
      "metadata": {
        "id": "KBb6hwAjAv6g"
      },
      "execution_count": null,
      "outputs": []
    },
    {
      "cell_type": "code",
      "source": [
        "students"
      ],
      "metadata": {
        "colab": {
          "base_uri": "https://localhost:8080/"
        },
        "id": "v89fBiPuBN0F",
        "outputId": "a7f5a3d6-a972-4cf0-e678-6463681db1e4"
      },
      "execution_count": null,
      "outputs": [
        {
          "output_type": "execute_result",
          "data": {
            "text/plain": [
              "{'age': [22, 24], 'name': ['Arya', 'Yusup']}"
            ]
          },
          "metadata": {},
          "execution_count": 173
        }
      ]
    },
    {
      "cell_type": "code",
      "source": [
        "students.update({'gender':['M','F']})\n",
        "students"
      ],
      "metadata": {
        "colab": {
          "base_uri": "https://localhost:8080/"
        },
        "id": "IxB3fXIABPpg",
        "outputId": "1d9a4d35-f172-49e2-b3e0-86577395a9ed"
      },
      "execution_count": null,
      "outputs": [
        {
          "output_type": "execute_result",
          "data": {
            "text/plain": [
              "{'age': [22, 24], 'gender': ['M', 'F'], 'name': ['Arya', 'Yusup']}"
            ]
          },
          "metadata": {},
          "execution_count": 174
        }
      ]
    },
    {
      "cell_type": "code",
      "source": [
        "students['name'].append('Yesaya')"
      ],
      "metadata": {
        "id": "PeM99ncEBinI"
      },
      "execution_count": null,
      "outputs": []
    },
    {
      "cell_type": "code",
      "source": [
        "students"
      ],
      "metadata": {
        "colab": {
          "base_uri": "https://localhost:8080/"
        },
        "id": "EyhXPG7HBuhX",
        "outputId": "0664b196-f1e5-49bc-8bf4-bad8b2edace3"
      },
      "execution_count": null,
      "outputs": [
        {
          "output_type": "execute_result",
          "data": {
            "text/plain": [
              "{'age': [22, 24], 'gender': ['M', 'F'], 'name': ['Arya', 'Yusup', 'Yesaya']}"
            ]
          },
          "metadata": {},
          "execution_count": 178
        }
      ]
    },
    {
      "cell_type": "code",
      "source": [
        "Students={ \n",
        "'name':['Budi','Jessica'],\n",
        "'age':[19,24],\n",
        "}\n",
        "\n",
        "Students['name'].append('Amar')"
      ],
      "metadata": {
        "id": "2K3np6anB1sT"
      },
      "execution_count": null,
      "outputs": []
    },
    {
      "cell_type": "code",
      "source": [
        "Students"
      ],
      "metadata": {
        "colab": {
          "base_uri": "https://localhost:8080/"
        },
        "id": "sTs3ivxICos7",
        "outputId": "b06789ef-496e-4e42-eee4-1065a3b82675"
      },
      "execution_count": null,
      "outputs": [
        {
          "output_type": "execute_result",
          "data": {
            "text/plain": [
              "{'age': [19, 24], 'name': ['Budi', 'Jessica', 'Amar']}"
            ]
          },
          "metadata": {},
          "execution_count": 183
        }
      ]
    },
    {
      "cell_type": "code",
      "source": [
        "Students.update({'gender':['Male','Female']})\n",
        "Students"
      ],
      "metadata": {
        "colab": {
          "base_uri": "https://localhost:8080/"
        },
        "id": "EQm4ziZ7Cp7E",
        "outputId": "64f1fee1-a326-4f51-a391-f9ce4de71053"
      },
      "execution_count": null,
      "outputs": [
        {
          "output_type": "execute_result",
          "data": {
            "text/plain": [
              "{'age': [19, 24],\n",
              " 'gender': ['Male', 'Female'],\n",
              " 'name': ['Budi', 'Jessica', 'Amar']}"
            ]
          },
          "metadata": {},
          "execution_count": 184
        }
      ]
    },
    {
      "cell_type": "code",
      "source": [
        "Students"
      ],
      "metadata": {
        "colab": {
          "base_uri": "https://localhost:8080/"
        },
        "id": "zlyy1dH2C7uB",
        "outputId": "530582fa-6a3c-4787-d7f4-bd3655f6e554"
      },
      "execution_count": null,
      "outputs": [
        {
          "output_type": "execute_result",
          "data": {
            "text/plain": [
              "{'age': [19, 24],\n",
              " 'gender': ['Male', 'Female'],\n",
              " 'name': ['Budi', 'Jessica', 'Amar']}"
            ]
          },
          "metadata": {},
          "execution_count": 185
        }
      ]
    },
    {
      "cell_type": "code",
      "source": [
        "Students['gender'].remove('Male')\n",
        "Students"
      ],
      "metadata": {
        "colab": {
          "base_uri": "https://localhost:8080/"
        },
        "id": "2NRHBvrdDB5N",
        "outputId": "11501fb6-cd8e-4bf4-dfeb-115e5e3066fb"
      },
      "execution_count": null,
      "outputs": [
        {
          "output_type": "execute_result",
          "data": {
            "text/plain": [
              "{'age': [19, 24], 'gender': ['Female'], 'name': ['Budi', 'Jessica', 'Amar']}"
            ]
          },
          "metadata": {},
          "execution_count": 187
        }
      ]
    },
    {
      "cell_type": "code",
      "source": [
        "Students={ \n",
        "'name':['Budi','Jessica'],\n",
        "'age':[19,24]\n",
        "}\n",
        "\n",
        "\n",
        "Students['name'].remove('Budi')"
      ],
      "metadata": {
        "id": "zNYd7EWCD3Ao"
      },
      "execution_count": null,
      "outputs": []
    },
    {
      "cell_type": "code",
      "source": [
        "Students"
      ],
      "metadata": {
        "colab": {
          "base_uri": "https://localhost:8080/"
        },
        "id": "lz-LgZAHD_pT",
        "outputId": "e4739072-ae21-4b60-843d-5b37267e05f1"
      },
      "execution_count": null,
      "outputs": [
        {
          "output_type": "execute_result",
          "data": {
            "text/plain": [
              "{'age': [19, 24], 'name': ['Jessica']}"
            ]
          },
          "metadata": {},
          "execution_count": 191
        }
      ]
    },
    {
      "cell_type": "code",
      "source": [
        "del Students['age']"
      ],
      "metadata": {
        "id": "R-pRsXuhEBC7"
      },
      "execution_count": null,
      "outputs": []
    },
    {
      "cell_type": "code",
      "source": [
        "Students"
      ],
      "metadata": {
        "id": "bNXerH94EFo2",
        "outputId": "712355ce-836b-4398-b819-d4e60e61210d",
        "colab": {
          "base_uri": "https://localhost:8080/"
        }
      },
      "execution_count": null,
      "outputs": [
        {
          "output_type": "execute_result",
          "data": {
            "text/plain": [
              "{'name': ['Jessica']}"
            ]
          },
          "metadata": {},
          "execution_count": 193
        }
      ]
    }
  ]
}